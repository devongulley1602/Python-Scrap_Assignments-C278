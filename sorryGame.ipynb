{
 "cells": [
  {
   "cell_type": "code",
   "execution_count": 9,
   "id": "b344a627",
   "metadata": {},
   "outputs": [],
   "source": [
    "import random\n",
    "class Token:\n",
    "    totalMoves =0\n",
    "    isSafe = True\n",
    "    _location = (0,0)\n",
    "    \n",
    "    def __init__(self, moves, safe):\n",
    "        self.totalMoves = moves\n",
    "        self.isSafe = safe\n",
    "    def display(self):\n",
    "        print(\"How many moves left to win : \" + str(24-self.totalMoves))\n",
    "        print(\"Is player safe? : \" + str(self.isSafe))\n",
    "    def dice(self):\n",
    "        list1 = [1, 2, 3, 4, 5, 6]\n",
    "        num = random.choice(list1)\n",
    "        print(num)\n",
    "        return num\n",
    "    "
   ]
  },
  {
   "cell_type": "code",
   "execution_count": 10,
   "id": "577dcad7",
   "metadata": {},
   "outputs": [],
   "source": [
    "class A(Token):\n",
    "    mapTo = (\n",
    "        (2,0),\n",
    "        (3,0),\n",
    "        (4,0),\n",
    "        (4,1),\n",
    "        (4,2),\n",
    "        (4,3),\n",
    "        (4,4),\n",
    "        (3,4),\n",
    "        (2,4),\n",
    "        (1,4),\n",
    "        (0,4),\n",
    "        (0,3),\n",
    "        (0,2),\n",
    "        (0,1),\n",
    "        (0,0),\n",
    "        (1,0),\n",
    "        (1,1),\n",
    "        (1,2),\n",
    "        (1,3),\n",
    "        (2,3),\n",
    "        (3,3),\n",
    "        (3,2),\n",
    "        (3,1),\n",
    "        (2,1),\n",
    "        (2,2)\n",
    "    )\n",
    "    \n",
    "    #Takes in totalMove 'progress' (i.e. 0 to 24), output a position in the array\n",
    "    def moveTo(self,progress):\n",
    "        self._location = progress\n",
    "        return mapTo[progress]\n",
    "        \n",
    "        "
   ]
  },
  {
   "cell_type": "code",
   "execution_count": 11,
   "id": "b7cca480",
   "metadata": {},
   "outputs": [],
   "source": [
    "class B(Token):\n",
    "    mapTo = (\n",
    "        (2,4) , \n",
    "        (1,4) ,\n",
    "        (0,4) ,\n",
    "        (0,3) ,\n",
    "        (0,2) ,\n",
    "        (0,1) ,\n",
    "        (0,0) ,\n",
    "        (1,0) ,\n",
    "        (2,0) ,\n",
    "        (3,0) ,\n",
    "        (4,0) ,\n",
    "        (4,1) ,\n",
    "        (4,2) ,\n",
    "        (4,3) ,\n",
    "        (4,4) ,\n",
    "        (3,4) ,\n",
    "        (3,3) ,\n",
    "        (3,2) ,\n",
    "        (3,1) ,\n",
    "        (2,1) ,\n",
    "        (1,1) ,\n",
    "        (1,2) ,\n",
    "        (1,3) ,\n",
    "        (2,3) ,\n",
    "        (2,2)\n",
    "        )\n",
    "    \n",
    "    #Takes in totalMove 'progress' (i.e. 0 to 24), output a position in the array\n",
    "    def moveTo(self,progress):\n",
    "        self._location = progress\n",
    "        return mapTo[progress]"
   ]
  },
  {
   "cell_type": "code",
   "execution_count": 12,
   "id": "67622dad",
   "metadata": {},
   "outputs": [
    {
     "name": "stdout",
     "output_type": "stream",
     "text": [
      "How many moves left to win : 0\n",
      "Is player safe? : False\n",
      "How many moves left to win : 0\n",
      "Is player safe? : False\n",
      "Please roll the dice\n",
      "6\n"
     ]
    },
    {
     "ename": "NameError",
     "evalue": "name 'updateMoves' is not defined",
     "output_type": "error",
     "traceback": [
      "\u001b[0;31m---------------------------------------------------------------------------\u001b[0m",
      "\u001b[0;31mNameError\u001b[0m                                 Traceback (most recent call last)",
      "Input \u001b[0;32mIn [12]\u001b[0m, in \u001b[0;36m<cell line: 7>\u001b[0;34m()\u001b[0m\n\u001b[1;32m      5\u001b[0m \u001b[38;5;28mprint\u001b[39m(\u001b[38;5;124m\"\u001b[39m\u001b[38;5;124mPlease roll the dice\u001b[39m\u001b[38;5;124m\"\u001b[39m)\n\u001b[1;32m      6\u001b[0m dicerolled \u001b[38;5;241m=\u001b[39m tokenA\u001b[38;5;241m.\u001b[39mdice()\n\u001b[0;32m----> 7\u001b[0m tokenA\u001b[38;5;241m.\u001b[39mtotalMoves \u001b[38;5;241m=\u001b[39m \u001b[43mupdateMoves\u001b[49m(tokenA\u001b[38;5;241m.\u001b[39mtotalMoves,dicerolled)\n\u001b[1;32m      8\u001b[0m tokenA\u001b[38;5;241m.\u001b[39mdisplay()\n",
      "\u001b[0;31mNameError\u001b[0m: name 'updateMoves' is not defined"
     ]
    }
   ],
   "source": [
    "tokenA = Token(24,False)\n",
    "tokenA.display()\n",
    "tokenB = Token(24,False)\n",
    "tokenB.display()\n",
    "print(\"Please roll the dice\")\n",
    "dicerolled = tokenA.dice()\n",
    "tokenA.totalMoves = updateMoves(tokenA.totalMoves,dicerolled)\n",
    "tokenA.display()"
   ]
  },
  {
   "cell_type": "code",
   "execution_count": null,
   "id": "3718934a",
   "metadata": {},
   "outputs": [],
   "source": []
  }
 ],
 "metadata": {
  "kernelspec": {
   "display_name": "Python 3 (ipykernel)",
   "language": "python",
   "name": "python3"
  },
  "language_info": {
   "codemirror_mode": {
    "name": "ipython",
    "version": 3
   },
   "file_extension": ".py",
   "mimetype": "text/x-python",
   "name": "python",
   "nbconvert_exporter": "python",
   "pygments_lexer": "ipython3",
   "version": "3.10.5"
  }
 },
 "nbformat": 4,
 "nbformat_minor": 5
}
