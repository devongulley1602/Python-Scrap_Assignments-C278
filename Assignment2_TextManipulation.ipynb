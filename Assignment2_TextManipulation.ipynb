{
 "cells": [
  {
   "cell_type": "code",
   "execution_count": 1,
   "id": "3e7808cb-a383-43cc-9fb7-d84cc8c303f2",
   "metadata": {},
   "outputs": [
    {
     "name": "stdout",
     "output_type": "stream",
     "text": [
      "Here are our words:\n",
      " ['imagine', 'a', 'vast', 'sheet', 'of', 'paper', 'on', 'which', 'straight', 'lines', 'triangles', 'squares', 'pentagons', 'hexagons', 'and', 'other', 'figures', 'instead', 'of', 'remaining', 'fixed', 'in', 'their', 'places', 'move', 'freely', 'about', 'on', 'or', 'in', 'the', 'surface', 'but', 'without', 'the', 'power', 'of', 'rising', 'above', 'or', 'sinking', 'below', 'it', 'very', 'much', 'like', 'shadows', 'only', 'hard', 'and', 'with', 'luminous', 'edges', 'and', 'you', 'will', 'then', 'have', 'a', 'pretty', 'correct', 'notion', 'of', 'my', 'country', 'and', 'countrymen', 'alas', 'a', 'few', 'years', 'ago', 'i', 'should', 'have', 'said', 'my', 'universe', 'but', 'now', 'my', 'mind', 'has', 'been', 'opened', 'to', 'higher', 'views', 'of', 'things'] \n",
      "\n",
      "There are 90 words\n",
      "\n",
      "They occur in a frequencies of:\n",
      "{'imagine': 1, 'a': 3, 'vast': 1, 'sheet': 1, 'of': 5, 'paper': 1, 'on': 2, 'which': 1, 'straight': 1, 'lines': 1, 'triangles': 1, 'squares': 1, 'pentagons': 1, 'hexagons': 1, 'and': 4, 'other': 1, 'figures': 1, 'instead': 1, 'remaining': 1, 'fixed': 1, 'in': 2, 'their': 1, 'places': 1, 'move': 1, 'freely': 1, 'about': 1, 'or': 2, 'the': 2, 'surface': 1, 'but': 2, 'without': 1, 'power': 1, 'rising': 1, 'above': 1, 'sinking': 1, 'below': 1, 'it': 1, 'very': 1, 'much': 1, 'like': 1, 'shadows': 1, 'only': 1, 'hard': 1, 'with': 1, 'luminous': 1, 'edges': 1, 'you': 1, 'will': 1, 'then': 1, 'have': 2, 'pretty': 1, 'correct': 1, 'notion': 1, 'my': 3, 'country': 1, 'countrymen': 1, 'alas': 1, 'few': 1, 'years': 1, 'ago': 1, 'i': 1, 'should': 1, 'said': 1, 'universe': 1, 'now': 1, 'mind': 1, 'has': 1, 'been': 1, 'opened': 1, 'to': 1, 'higher': 1, 'views': 1, 'things': 1}\n"
     ]
    }
   ],
   "source": [
    "#Assignment 2 Text Manipulation: Cleans and counts occurrences of words in a sentence\n",
    "#2022-06-23\n",
    "#Devon Gulley\n",
    "\n",
    "import string\n",
    "\n",
    "\n",
    "#Clean(wordArray: array): array\n",
    "#Accepts the array to be cleaned and modifies it to be without !\"#$%&'()*+,-./:;<=>?@[\\]^_`{|}~\n",
    "def clean(wordArray):\n",
    "    punctuation = string.punctuation\n",
    "    newArray = []\n",
    "    for i in wordArray:\n",
    "        \n",
    "        if(i!=\"\") and not (i in punctuation): #if the word is not blank and not a punctuation..\n",
    "\n",
    "            while (i[0] in punctuation): #while the first character is punctuation\n",
    "                i = i[1:] #ignore the first character\n",
    "\n",
    "            while (i[-1] in punctuation): #while the final character is punctuation\n",
    "                i = i[:-1] #ignore the final character\n",
    "            \n",
    "            #the new word is now valid and may be added to the array of words\n",
    "            newArray.append(i)\n",
    "            \n",
    "    return newArray\n",
    "\n",
    "#frequency(wordArray: array): dict\n",
    "#accepts an array of words, returns dictionary which counts the number of distinct words in the array\n",
    "def frequency(wordArray):\n",
    "    occurrences: dict = {}\n",
    "    for i in wordArray:\n",
    "        if i in occurrences:\n",
    "            occurrences[i] += 1\n",
    "        else:\n",
    "            occurrences[i] = 1\n",
    "    return occurrences\n",
    "\n",
    "s = \"\"\"Imagine a vast sheet of paper on which straight Lines, Triangles, Squares, Pentagons, Hexagons, and other figures, instead of remaining fixed in their places, move freely about, on or in the surface, but without the power of rising above or sinking below it, very much like shadows - only hard and with luminous edges - and you will then have a pretty correct notion of my country and countrymen. Alas, a few years ago, I should have said \"my universe\": but now my mind has been opened to higher views of things.\"\"\";\n",
    "\n",
    "words2 = clean( (s.lower().split(\" \")) ) #the exact same steps we did above for words, now doing it in one step using the functions we've already made\n",
    "print(\"Here are our words:\\n\", words2,\"\\n\")\n",
    "\n",
    "print(f\"There are {len(words2)} words\\n\")\n",
    "print(f\"They occur in a frequencies of:\\n{frequency(words2)}\")"
   ]
  },
  {
   "cell_type": "code",
   "execution_count": 2,
   "id": "a1b9ec19",
   "metadata": {},
   "outputs": [
    {
     "ename": "TypeError",
     "evalue": "object of type 'int' has no len()",
     "output_type": "error",
     "traceback": [
      "\u001b[0;31m---------------------------------------------------------------------------\u001b[0m",
      "\u001b[0;31mTypeError\u001b[0m                                 Traceback (most recent call last)",
      "Input \u001b[0;32mIn [2]\u001b[0m, in \u001b[0;36m<cell line: 1>\u001b[0;34m()\u001b[0m\n\u001b[0;32m----> 1\u001b[0m x\u001b[38;5;241m=\u001b[39m\u001b[38;5;28;43mlen\u001b[39;49m\u001b[43m(\u001b[49m\u001b[38;5;241;43m5\u001b[39;49m\u001b[43m)\u001b[49m\n\u001b[1;32m      2\u001b[0m x\n",
      "\u001b[0;31mTypeError\u001b[0m: object of type 'int' has no len()"
     ]
    }
   ],
   "source": []
  }
 ],
 "metadata": {
  "kernelspec": {
   "display_name": "Python 3 (ipykernel)",
   "language": "python",
   "name": "python3"
  },
  "language_info": {
   "codemirror_mode": {
    "name": "ipython",
    "version": 3
   },
   "file_extension": ".py",
   "mimetype": "text/x-python",
   "name": "python",
   "nbconvert_exporter": "python",
   "pygments_lexer": "ipython3",
   "version": "3.10.5"
  }
 },
 "nbformat": 4,
 "nbformat_minor": 5
}
