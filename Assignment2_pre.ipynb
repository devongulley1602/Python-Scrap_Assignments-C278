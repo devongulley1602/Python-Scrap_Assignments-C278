{
 "cells": [
  {
   "cell_type": "code",
   "execution_count": 3,
   "id": "05fd336a",
   "metadata": {},
   "outputs": [
    {
     "data": {
      "text/plain": [
       "'imagine a vast sheet of paper on which straight lines, triangles, squares, pentagons, hexagons, and other figures, instead of remaining fixed in their places, move freely about, on or in the surface, but without the power of rising above or sinking below it, very much like shadows - only hard and with luminous edges - and you will then have a pretty correct notion of my country and countrymen. alas, a few years ago, i should have said \"my universe\": but now my mind has been opened to higher views of things.'"
      ]
     },
     "execution_count": 3,
     "metadata": {},
     "output_type": "execute_result"
    }
   ],
   "source": [
    "#Step 1\n",
    "s = \"\"\"Imagine a vast sheet of paper on which straight Lines, Triangles, Squares, Pentagons, Hexagons, and other figures, instead of remaining fixed in their places, move freely about, on or in the surface, but without the power of rising above or sinking below it, very much like shadows - only hard and with luminous edges - and you will then have a pretty correct notion of my country and countrymen. Alas, a few years ago, I should have said \"my universe\": but now my mind has been opened to higher views of things.\"\"\";\n",
    "s_lower = s.lower()\n",
    "print(s_lower)"
   ]
  },
  {
   "cell_type": "code",
   "execution_count": 5,
   "id": "edbf0041",
   "metadata": {},
   "outputs": [
    {
     "name": "stdout",
     "output_type": "stream",
     "text": [
      "['imagine', 'a', 'vast', 'sheet', 'of', 'paper', 'on', 'which', 'straight', 'lines,', 'triangles,', 'squares,', 'pentagons,', 'hexagons,', 'and', 'other', 'figures,', 'instead', 'of', 'remaining', 'fixed', 'in', 'their', 'places,', 'move', 'freely', 'about,', 'on', 'or', 'in', 'the', 'surface,', 'but', 'without', 'the', 'power', 'of', 'rising', 'above', 'or', 'sinking', 'below', 'it,', 'very', 'much', 'like', 'shadows', '-', 'only', 'hard', 'and', 'with', 'luminous', 'edges', '-', 'and', 'you', 'will', 'then', 'have', 'a', 'pretty', 'correct', 'notion', 'of', 'my', 'country', 'and', 'countrymen.', 'alas,', 'a', 'few', 'years', 'ago,', 'i', 'should', 'have', 'said', '\"my', 'universe\":', 'but', 'now', 'my', 'mind', 'has', 'been', 'opened', 'to', 'higher', 'views', 'of', 'things.']\n"
     ]
    }
   ],
   "source": [
    "#Step 2\n",
    "words = s_lower.split(\" \")\n",
    "print(words)"
   ]
  },
  {
   "cell_type": "code",
   "execution_count": 6,
   "id": "d443133f",
   "metadata": {},
   "outputs": [
    {
     "name": "stdout",
     "output_type": "stream",
     "text": [
      "92\n"
     ]
    }
   ],
   "source": [
    "#Step 3\n",
    "print(len(words))"
   ]
  },
  {
   "cell_type": "code",
   "execution_count": 57,
   "id": "bf29d23c",
   "metadata": {},
   "outputs": [
    {
     "name": "stdout",
     "output_type": "stream",
     "text": [
      "{'haythem': 2, 'is': 1, 'eating': 1, 'tacos.': 1, 'loves': 1, 'tacos': 1, '': 1, ':': 1} \n",
      "\n",
      "{'imagine': 1, 'a': 3, 'vast': 1, 'sheet': 1, 'of': 5, 'paper': 1, 'on': 2, 'which': 1, 'straight': 1, 'lines': 1, 'triangles': 1, 'squares': 1, 'pentagons': 1, 'hexagons': 1, 'and': 4, 'other': 1, 'figures': 1, 'instead': 1, 'remaining': 1, 'fixed': 1, 'in': 2, 'their': 1, 'places': 1, 'move': 1, 'freely': 1, 'about': 1, 'or': 2, 'the': 2, 'surface': 1, 'but': 2, 'without': 1, 'power': 1, 'rising': 1, 'above': 1, 'sinking': 1, 'below': 1, 'it': 1, 'very': 1, 'much': 1, 'like': 1, 'shadows': 1, 'only': 1, 'hard': 1, 'with': 1, 'luminous': 1, 'edges': 1, 'you': 1, 'will': 1, 'then': 1, 'have': 2, 'pretty': 1, 'correct': 1, 'notion': 1, 'my': 3, 'country': 1, 'countrymen': 1, 'alas': 1, 'few': 1, 'years': 1, 'ago': 1, 'i': 1, 'should': 1, 'said': 1, 'universe': 1, 'now': 1, 'mind': 1, 'has': 1, 'been': 1, 'opened': 1, 'to': 1, 'higher': 1, 'views': 1, 'things': 1}\n"
     ]
    }
   ],
   "source": [
    "#Step 4\n",
    "w = [\"haythem\",\"is\",\"eating\",\"tacos.\",\"haythem\",\"loves\",\"tacos\",\"\",\":\"]\n",
    "\n",
    "#frequency(wordArray: array): dict\n",
    "#accepts an array of words, returns dictionary which counts the number of distinct words in the array\n",
    "def frequency(wordArray):\n",
    "    occurrences: dict = {}\n",
    "    for i in wordArray:\n",
    "        if i in occurrences:\n",
    "            occurrences[i] += 1\n",
    "        else:\n",
    "            occurrences[i] = 1\n",
    "    return occurrences\n",
    "\n",
    "\n",
    "freq_occur = frequency(w)\n",
    "print(freq_occur,\"\\n\")\n",
    "freq_occur = frequency(words)\n",
    "print(freq_occur)"
   ]
  },
  {
   "cell_type": "code",
   "execution_count": 58,
   "id": "c69a4bbc",
   "metadata": {},
   "outputs": [
    {
     "name": "stdout",
     "output_type": "stream",
     "text": [
      "['haythem', 'is', 'eating', 'tacos', 'haythem', 'loves', 'tacos'] \n",
      "\n",
      "['imagine', 'a', 'vast', 'sheet', 'of', 'paper', 'on', 'which', 'straight', 'lines', 'triangles', 'squares', 'pentagons', 'hexagons', 'and', 'other', 'figures', 'instead', 'of', 'remaining', 'fixed', 'in', 'their', 'places', 'move', 'freely', 'about', 'on', 'or', 'in', 'the', 'surface', 'but', 'without', 'the', 'power', 'of', 'rising', 'above', 'or', 'sinking', 'below', 'it', 'very', 'much', 'like', 'shadows', 'only', 'hard', 'and', 'with', 'luminous', 'edges', 'and', 'you', 'will', 'then', 'have', 'a', 'pretty', 'correct', 'notion', 'of', 'my', 'country', 'and', 'countrymen', 'alas', 'a', 'few', 'years', 'ago', 'i', 'should', 'have', 'said', 'my', 'universe', 'but', 'now', 'my', 'mind', 'has', 'been', 'opened', 'to', 'higher', 'views', 'of', 'things']\n"
     ]
    }
   ],
   "source": [
    "#Step 6\n",
    "import string\n",
    "# print(string.punctuation) #it works\n",
    "\n",
    "#Clean(wordArray: array): array\n",
    "#Accepts the array to be cleaned and modifies it to be without !\"#$%&'()*+,-./:;<=>?@[\\]^_`{|}~\n",
    "def clean(wordArray):\n",
    "    punctuation = string.punctuation\n",
    "    newArray = []\n",
    "    for i in wordArray:\n",
    "        \n",
    "        if(i!=\"\") and not (i in punctuation): #if the word is not blank and not a punctuation..\n",
    "\n",
    "            if (i[0] in punctuation): #if the first character is punctuation\n",
    "                i = i[1:] #ignore the first character\n",
    "\n",
    "            if (i[-1] in punctuation): #if the final character is punctuation\n",
    "                i = i[:-1] #ignore the final character\n",
    "            \n",
    "            #the new word is now valid and may be added to the array of words\n",
    "            newArray.append(i)\n",
    "            \n",
    "            \n",
    "    return newArray\n",
    "\n",
    "w = clean(w)\n",
    "print(w,\"\\n\")\n",
    "\n",
    "words = clean(words)\n",
    "print(words)"
   ]
  },
  {
   "cell_type": "code",
   "execution_count": 3,
   "id": "64897f55",
   "metadata": {},
   "outputs": [
    {
     "name": "stdout",
     "output_type": "stream",
     "text": [
      "Here are our words:\n",
      " ['imagine', 'a', 'vast', 'sheet', 'of', 'paper', 'on', 'which', 'straight', 'lines', 'triangles', 'squares', 'pentagons', 'hexagons', 'and', 'other', 'figures', 'instead', 'of', 'remaining', 'fixed', 'in', 'their', 'places', 'move', 'freely', 'about', 'on', 'or', 'in', 'the', 'surface', 'but', 'without', 'the', 'power', 'of', 'rising', 'above', 'or', 'sinking', 'below', 'it', 'very', 'much', 'like', 'shadows', 'only', 'hard', 'and', 'with', 'luminous', 'edges', 'and', 'you', 'will', 'then', 'have', 'a', 'pretty', 'correct', 'notion', 'of', 'my', 'country', 'and', 'countrymen', 'alas', 'a', 'few', 'years', 'ago', 'i', 'should', 'have', 'said', 'my', 'universe\"', 'but', 'now', 'my', 'mind', 'has', 'been', 'opened', 'to', 'higher', 'views', 'of', 'things'] \n",
      "\n",
      "There are 90 words\n",
      "\n",
      "They occur in a frequencies of:\n",
      "{'imagine': 1, 'a': 3, 'vast': 1, 'sheet': 1, 'of': 5, 'paper': 1, 'on': 2, 'which': 1, 'straight': 1, 'lines': 1, 'triangles': 1, 'squares': 1, 'pentagons': 1, 'hexagons': 1, 'and': 4, 'other': 1, 'figures': 1, 'instead': 1, 'remaining': 1, 'fixed': 1, 'in': 2, 'their': 1, 'places': 1, 'move': 1, 'freely': 1, 'about': 1, 'or': 2, 'the': 2, 'surface': 1, 'but': 2, 'without': 1, 'power': 1, 'rising': 1, 'above': 1, 'sinking': 1, 'below': 1, 'it': 1, 'very': 1, 'much': 1, 'like': 1, 'shadows': 1, 'only': 1, 'hard': 1, 'with': 1, 'luminous': 1, 'edges': 1, 'you': 1, 'will': 1, 'then': 1, 'have': 2, 'pretty': 1, 'correct': 1, 'notion': 1, 'my': 3, 'country': 1, 'countrymen': 1, 'alas': 1, 'few': 1, 'years': 1, 'ago': 1, 'i': 1, 'should': 1, 'said': 1, 'universe\"': 1, 'now': 1, 'mind': 1, 'has': 1, 'been': 1, 'opened': 1, 'to': 1, 'higher': 1, 'views': 1, 'things': 1}\n"
     ]
    }
   ],
   "source": [
    "#Step 7\n",
    "\n",
    "import string\n",
    "\n",
    "\n",
    "#Clean(wordArray: array): array\n",
    "#Accepts the array to be cleaned and modifies it to be without !\"#$%&'()*+,-./:;<=>?@[\\]^_`{|}~\n",
    "def clean(wordArray):\n",
    "    punctuation = string.punctuation\n",
    "    newArray = []\n",
    "    for i in wordArray:\n",
    "        \n",
    "        if(i!=\"\") and not (i in punctuation): #if the word is not blank and not a punctuation..\n",
    "\n",
    "            if (i[0] in punctuation): #if the first character is punctuation\n",
    "                i = i[1:] #ignore the first character\n",
    "\n",
    "            if (i[-1] in punctuation): #if the final character is punctuation\n",
    "                i = i[:-1] #ignore the final character\n",
    "            \n",
    "            #the new word is now valid and may be added to the array of words\n",
    "            newArray.append(i)\n",
    "            \n",
    "    return newArray\n",
    "\n",
    "#frequency(wordArray: array): dict\n",
    "#accepts an array of words, returns dictionary which counts the number of distinct words in the array\n",
    "def frequency(wordArray):\n",
    "    occurrences: dict = {}\n",
    "    for i in wordArray:\n",
    "        if i in occurrences:\n",
    "            occurrences[i] += 1\n",
    "        else:\n",
    "            occurrences[i] = 1\n",
    "    return occurrences\n",
    "\n",
    "s = \"\"\"Imagine a vast sheet of paper on which straight Lines, Triangles, Squares, Pentagons, Hexagons, and other figures, instead of remaining fixed in their places, move freely about, on or in the surface, but without the power of rising above or sinking below it, very much like shadows - only hard and with luminous edges - and you will then have a pretty correct notion of my country and countrymen. Alas, a few years ago, I should have said \"my universe\": but now my mind has been opened to higher views of things.\"\"\";\n",
    "\n",
    "words2 = clean( (s.lower().split(\" \")) ) #the exact same steps we did above for words, now doing it in one step using the functions we've already made\n",
    "print(\"Here are our words:\\n\", words2,\"\\n\")\n",
    "\n",
    "print(f\"There are {len(words2)} words\\n\")\n",
    "print(f\"They occur in a frequencies of:\\n{frequency(words2)}\")"
   ]
  },
  {
   "cell_type": "code",
   "execution_count": null,
   "id": "e627f08a",
   "metadata": {},
   "outputs": [],
   "source": []
  }
 ],
 "metadata": {
  "kernelspec": {
   "display_name": "Python 3 (ipykernel)",
   "language": "python",
   "name": "python3"
  },
  "language_info": {
   "codemirror_mode": {
    "name": "ipython",
    "version": 3
   },
   "file_extension": ".py",
   "mimetype": "text/x-python",
   "name": "python",
   "nbconvert_exporter": "python",
   "pygments_lexer": "ipython3",
   "version": "3.10.5"
  }
 },
 "nbformat": 4,
 "nbformat_minor": 5
}
