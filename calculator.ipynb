{
 "cells": [
  {
   "cell_type": "code",
   "execution_count": null,
   "id": "de0bd7fd",
   "metadata": {},
   "outputs": [],
   "source": [
    "#Simple Calculator can do basic arithmetic operations\n",
    "class SimpleCalculator:\n",
    "    #Private properties\n",
    "    _x: int\n",
    "    _y: int \n",
    "    \n",
    "    #Getters and setters\n",
    "    @property\n",
    "    def x(self):\n",
    "        return self._x\n",
    "    \n",
    "    @x.setter\n",
    "    def x(self,value):\n",
    "        self._x = value\n",
    "        \n",
    "    @property\n",
    "    def y(self):\n",
    "        return self._y\n",
    "    \n",
    "    @y.setter\n",
    "    def y(self,value):\n",
    "        self._y = value\n",
    "\n",
    "    \n",
    "    #Constructors\n",
    "    def __init__(self,x,y):\n",
    "        self._x = x\n",
    "        self._y = y\n",
    "    \n",
    "#     def __init__(self):\n",
    "#         self._x = 0\n",
    "#         self._y = 0\n",
    "        \n",
    "    #Functions\n",
    "    def add(self):\n",
    "        return self._x+self._y\n",
    "    def subtract(self):\n",
    "        return self._x-self._y\n",
    "    def multiply(self):\n",
    "        return self._x*self._y  \n",
    "    \n",
    "    #This is to protect operators that do division\n",
    "    def preventZeroDivision(operator):\n",
    "        def internal(self):\n",
    "            if self.y == 0:\n",
    "                #raise Exception(\"HEY THAT'S GOING TO BE VERY LARGE FOR ME TO PROCESS!\")\n",
    "                print(\"HEY THAT'S GOING TO BE VERY LARGE FOR ME TO PROCESS!\")\n",
    "                self.y = 1\n",
    "                return\n",
    "            return operator(self)\n",
    "        return internal\n",
    "    \n",
    "    @preventZeroDivision\n",
    "    def divide(self):\n",
    "        return self._x/self._y       "
   ]
  },
  {
   "cell_type": "code",
   "execution_count": null,
   "id": "57314c85",
   "metadata": {
    "scrolled": true
   },
   "outputs": [],
   "source": [
    "#Driver\n",
    "\n",
    "digits = \"0123456789\"\n",
    "operators = \"*/+-\"\n",
    "continuing = True\n",
    "\n",
    "strX = \"\"\n",
    "strY = \"\"\n",
    "strOp = \"\"\n",
    "\n",
    "while continuing:\n",
    "    userInput = input(\"Type your positive two-integer operation, q to quit:\\n\")\n",
    "    if (userInput == \"q\"):\n",
    "        break\n",
    "\n",
    "\n",
    "    foundX = False\n",
    "    foundOperator = True\n",
    "\n",
    "    for i in userInput:\n",
    "        if (i in digits) and (not foundX):\n",
    "            strX += i\n",
    "        elif strX != \"\":\n",
    "            foundX = True\n",
    "\n",
    "        if (i in digits) and foundX:\n",
    "            strY += i\n",
    "        elif  strY != \"\":\n",
    "            foundY = True\n",
    "\n",
    "        if (i in operators) and foundX:\n",
    "            strOp += i\n",
    "\n",
    "    calc = SimpleCalculator(float(strX),float(strY))\n",
    "    \n",
    "    print(\"=\")\n",
    "    if strOp == \"+\":\n",
    "        print(calc.add())\n",
    "    elif strOp == \"-\":\n",
    "        print(calc.subtract())\n",
    "    elif strOp == \"*\":\n",
    "        print(calc.multiply())\n",
    "    elif strOp == \"/\":\n",
    "        print(calc.divide())      "
   ]
  },
  {
   "cell_type": "code",
   "execution_count": 31,
   "id": "6fbf635e",
   "metadata": {},
   "outputs": [
    {
     "name": "stdout",
     "output_type": "stream",
     "text": [
      "\n"
     ]
    }
   ],
   "source": []
  },
  {
   "cell_type": "code",
   "execution_count": 32,
   "id": "8b0d6839",
   "metadata": {},
   "outputs": [
    {
     "name": "stdout",
     "output_type": "stream",
     "text": [
      "\n"
     ]
    }
   ],
   "source": []
  },
  {
   "cell_type": "code",
   "execution_count": null,
   "id": "bbc340f7",
   "metadata": {},
   "outputs": [],
   "source": []
  },
  {
   "cell_type": "code",
   "execution_count": null,
   "id": "8289f7e3",
   "metadata": {},
   "outputs": [],
   "source": []
  }
 ],
 "metadata": {
  "kernelspec": {
   "display_name": "Python 3 (ipykernel)",
   "language": "python",
   "name": "python3"
  },
  "language_info": {
   "codemirror_mode": {
    "name": "ipython",
    "version": 3
   },
   "file_extension": ".py",
   "mimetype": "text/x-python",
   "name": "python",
   "nbconvert_exporter": "python",
   "pygments_lexer": "ipython3",
   "version": "3.10.5"
  }
 },
 "nbformat": 4,
 "nbformat_minor": 5
}
