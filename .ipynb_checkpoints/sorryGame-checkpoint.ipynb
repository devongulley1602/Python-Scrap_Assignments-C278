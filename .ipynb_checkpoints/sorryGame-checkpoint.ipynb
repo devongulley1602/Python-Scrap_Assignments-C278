{
 "cells": [
  {
   "cell_type": "code",
   "execution_count": 3,
   "id": "8ad16b55",
   "metadata": {},
   "outputs": [
    {
     "ename": "SyntaxError",
     "evalue": "incomplete input (3410688554.py, line 2)",
     "output_type": "error",
     "traceback": [
      "\u001b[0;36m  Input \u001b[0;32mIn [3]\u001b[0;36m\u001b[0m\n\u001b[0;31m    \u001b[0m\n\u001b[0m    ^\u001b[0m\n\u001b[0;31mSyntaxError\u001b[0m\u001b[0;31m:\u001b[0m incomplete input\n"
     ]
    }
   ],
   "source": [
    "class token():\n",
    "    \n",
    "    "
   ]
  },
  {
   "cell_type": "code",
   "execution_count": 2,
   "id": "94149788",
   "metadata": {},
   "outputs": [
    {
     "ename": "NameError",
     "evalue": "name 'token' is not defined",
     "output_type": "error",
     "traceback": [
      "\u001b[0;31m---------------------------------------------------------------------------\u001b[0m",
      "\u001b[0;31mNameError\u001b[0m                                 Traceback (most recent call last)",
      "Input \u001b[0;32mIn [2]\u001b[0m, in \u001b[0;36m<cell line: 1>\u001b[0;34m()\u001b[0m\n\u001b[0;32m----> 1\u001b[0m \u001b[38;5;28;01mclass\u001b[39;00m \u001b[38;5;21;01mA\u001b[39;00m(\u001b[43mtoken\u001b[49m):\n\u001b[1;32m      2\u001b[0m     mapTo \u001b[38;5;241m=\u001b[39m {\n\u001b[1;32m      3\u001b[0m         \u001b[38;5;241m0\u001b[39m: (\u001b[38;5;241m2\u001b[39m,\u001b[38;5;241m0\u001b[39m) ,\n\u001b[1;32m      4\u001b[0m         \u001b[38;5;241m1\u001b[39m: (\u001b[38;5;241m3\u001b[39m,\u001b[38;5;241m0\u001b[39m) ,\n\u001b[0;32m   (...)\u001b[0m\n\u001b[1;32m     27\u001b[0m         \u001b[38;5;241m24\u001b[39m: (\u001b[38;5;241m2\u001b[39m,\u001b[38;5;241m2\u001b[39m)\n\u001b[1;32m     28\u001b[0m     }\n",
      "\u001b[0;31mNameError\u001b[0m: name 'token' is not defined"
     ]
    }
   ],
   "source": [
    "class A(token):\n",
    "    mapTo = {\n",
    "        0: (2,0) ,\n",
    "        1: (3,0) ,\n",
    "        2: (4,0) ,\n",
    "        3: (4,1) ,\n",
    "        4: (4,2) ,\n",
    "        5: (4,3) ,\n",
    "        6: (4,4) ,\n",
    "        7: (3,4) ,\n",
    "        8: (2,4) ,\n",
    "        9: (1,4) ,\n",
    "        10:(0,4) ,\n",
    "        11: (0,3),\n",
    "        12: (0,2),\n",
    "        13: (0,1),\n",
    "        14: (0,0),\n",
    "        15: (1,0),\n",
    "        16: (1,1),\n",
    "        17: (1,2),\n",
    "        18: (1,3),\n",
    "        19: (2,3),\n",
    "        20: (3,3),\n",
    "        21: (3,2),\n",
    "        22: (3,1),\n",
    "        23: (2,1),\n",
    "        24: (2,2)\n",
    "    }"
   ]
  },
  {
   "cell_type": "code",
   "execution_count": 4,
   "id": "a20d3d43",
   "metadata": {},
   "outputs": [
    {
     "ename": "NameError",
     "evalue": "name 'token' is not defined",
     "output_type": "error",
     "traceback": [
      "\u001b[0;31m---------------------------------------------------------------------------\u001b[0m",
      "\u001b[0;31mNameError\u001b[0m                                 Traceback (most recent call last)",
      "Input \u001b[0;32mIn [4]\u001b[0m, in \u001b[0;36m<cell line: 1>\u001b[0;34m()\u001b[0m\n\u001b[0;32m----> 1\u001b[0m \u001b[38;5;28;01mclass\u001b[39;00m \u001b[38;5;21;01mB\u001b[39;00m(\u001b[43mtoken\u001b[49m):\n\u001b[1;32m      2\u001b[0m     mapTo \u001b[38;5;241m=\u001b[39m {\n\u001b[1;32m      3\u001b[0m         \u001b[38;5;241m0\u001b[39m: (\u001b[38;5;241m2\u001b[39m,\u001b[38;5;241m4\u001b[39m) , \n\u001b[1;32m      4\u001b[0m         \u001b[38;5;241m1\u001b[39m: (\u001b[38;5;241m1\u001b[39m,\u001b[38;5;241m4\u001b[39m) ,\n\u001b[0;32m   (...)\u001b[0m\n\u001b[1;32m     27\u001b[0m         \u001b[38;5;241m24\u001b[39m:(\u001b[38;5;241m2\u001b[39m,\u001b[38;5;241m2\u001b[39m)\n\u001b[1;32m     28\u001b[0m     }\n",
      "\u001b[0;31mNameError\u001b[0m: name 'token' is not defined"
     ]
    }
   ],
   "source": [
    "class B(token):\n",
    "    mapTo = {\n",
    "        0: (2,4) , \n",
    "        1: (1,4) ,\n",
    "        2: (0,4) ,\n",
    "        3: (0,3) ,\n",
    "        4: (0,2) ,\n",
    "        5: (0,1) ,\n",
    "        6: (0,0) ,\n",
    "        7: (1,0) ,\n",
    "        8: (2,0) ,\n",
    "        9: (3,0) ,\n",
    "        10:(4,0) ,\n",
    "        11:(4,1) ,\n",
    "        12:(4,2) ,\n",
    "        13:(4,3) ,\n",
    "        14:(4,4) ,\n",
    "        15:(3,4) ,\n",
    "        16:(3,3) ,\n",
    "        17:(3,2) ,\n",
    "        18:(3,1) ,\n",
    "        19:(2,1) ,\n",
    "        20:(1,1) ,\n",
    "        21:(1,2) ,\n",
    "        22:(1,3) ,\n",
    "        23:(2,3) ,\n",
    "        24:(2,2)\n",
    "    }"
   ]
  },
  {
   "cell_type": "code",
   "execution_count": 6,
   "id": "2921e5d4",
   "metadata": {},
   "outputs": [
    {
     "name": "stdout",
     "output_type": "stream",
     "text": [
      "(2, 4)\n"
     ]
    }
   ],
   "source": [
    "mapTo = (\n",
    "        (2,4) , \n",
    "        (1,4) ,\n",
    "        (0,4) ,\n",
    "        (0,3) ,\n",
    "        (0,2) ,\n",
    "        (0,1) ,\n",
    "        (0,0) ,\n",
    "        (1,0) ,\n",
    "        (2,0) ,\n",
    "        (3,0) ,\n",
    "        (4,0) ,\n",
    "        (4,1) ,\n",
    "        (4,2) ,\n",
    "        (4,3) ,\n",
    "        (4,4) ,\n",
    "        (3,4) ,\n",
    "        (3,3) ,\n",
    "        (3,2) ,\n",
    "        (3,1) ,\n",
    "        (2,1) ,\n",
    "        (1,1) ,\n",
    "        (1,2) ,\n",
    "        (1,3) ,\n",
    "        (2,3) ,\n",
    "        (2,2))\n",
    "\n",
    "print(mapTo[0])"
   ]
  }
 ],
 "metadata": {
  "kernelspec": {
   "display_name": "Python 3 (ipykernel)",
   "language": "python",
   "name": "python3"
  },
  "language_info": {
   "codemirror_mode": {
    "name": "ipython",
    "version": 3
   },
   "file_extension": ".py",
   "mimetype": "text/x-python",
   "name": "python",
   "nbconvert_exporter": "python",
   "pygments_lexer": "ipython3",
   "version": "3.10.5"
  }
 },
 "nbformat": 4,
 "nbformat_minor": 5
}
