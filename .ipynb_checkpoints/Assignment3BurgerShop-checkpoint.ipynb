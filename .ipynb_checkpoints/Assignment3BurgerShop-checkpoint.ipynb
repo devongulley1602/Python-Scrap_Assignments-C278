{
 "cells": [
  {
   "cell_type": "code",
   "execution_count": null,
   "id": "af6fa1fa",
   "metadata": {},
   "outputs": [],
   "source": [
    "# implement the classes listed below \n",
    "class FoodItem:\n",
    "    pass\n",
    "class Burger(FoodItem):\n",
    "    pass\n",
    "class Drink(FoodItem):\n",
    "    pass\n",
    "class Side(FoodItem):\n",
    "    pass\n",
    "class Combo(FoodItem):\n",
    "    pass\n",
    "class Order:\n",
    "    pass\n",
    " \n",
    "def user_input_burger():\n",
    "    b = Burger()\n",
    "    #ask user for input and store it in burger object \n",
    "    return b\n",
    " \n",
    "def user_input_drink():\n",
    "    d = Drink()\n",
    "    #ask user for input and store it in drink object \n",
    "    return d\n",
    " \n",
    "def user_input_side():\n",
    "    s = Side()\n",
    "    #ask user for input and store it in side object \n",
    "    return s\n",
    " \n",
    "def user_input_combo():\n",
    "    c = Combo()\n",
    "    #ask user for input and store it in combo object \n",
    "    #a combo must include one burger, one side, and one drink\n",
    "    return c\n",
    " \n",
    "def take_order():\n",
    "    #ask user for name for the order \n",
    "    #repeat taking order until client is done \n",
    "    #display order details\n",
    "    #display a thank you message\n",
    "    print(\"Welcome to Burger Shop\")\n",
    " \n",
    "take_order()"
   ]
  }
 ],
 "metadata": {
  "kernelspec": {
   "display_name": "Python 3 (ipykernel)",
   "language": "python",
   "name": "python3"
  },
  "language_info": {
   "codemirror_mode": {
    "name": "ipython",
    "version": 3
   },
   "file_extension": ".py",
   "mimetype": "text/x-python",
   "name": "python",
   "nbconvert_exporter": "python",
   "pygments_lexer": "ipython3",
   "version": "3.10.5"
  }
 },
 "nbformat": 4,
 "nbformat_minor": 5
}
